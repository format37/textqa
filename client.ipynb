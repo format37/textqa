{
 "cells": [
  {
   "cell_type": "code",
   "execution_count": 1,
   "id": "85e40499",
   "metadata": {},
   "outputs": [],
   "source": [
    "import requests\n",
    "import json\n",
    "import time"
   ]
  },
  {
   "cell_type": "code",
   "execution_count": 2,
   "id": "5d5db5fb",
   "metadata": {},
   "outputs": [
    {
     "name": "stdout",
     "output_type": "stream",
     "text": [
      "ok\n"
     ]
    }
   ],
   "source": [
    "r = ''\n",
    "while r == '':\n",
    "    try:\n",
    "        r = requests.get('http://localhost:42013/test').text\n",
    "    except Exception as e:\n",
    "        time.sleep(1)\n",
    "print(r)"
   ]
  },
  {
   "cell_type": "code",
   "execution_count": 3,
   "id": "3b50f0cd",
   "metadata": {},
   "outputs": [],
   "source": [
    "server_address = 'http://localhost:42013/textqa'\n",
    "\n",
    "texts = []\n",
    "questions = []\n",
    "\n",
    "text = \"\"\"Центральной площадью Рима стала долина между Палатином и Квириналом, известная как Форум.\n",
    "Отсюда расходились важнейшие улицы: via sacra, поднимающаяся к главной святыне Рима — храму \n",
    "Юпитера Капитолийского. Параллельно ей, у подножия Палатина, проходила via nova и др.\n",
    "Другой важной площадью внутри города был рынок скота у Тибра — Бычий форум, располагавшийся в самой \n",
    "оживлённой торговой части города. По соседству, но вне стен города, лежал овощной рынок.\"\"\"\n",
    "question = 'Что называли Форумом?'\n",
    "texts.append(text)\n",
    "questions.append(question)\n",
    "\n",
    "text = \"\"\"Скорость ветров на Юпитере может превышать 600 км/ч. В отличие от Земли, где циркуляция атмосферы \n",
    "происходит за счёт разницы солнечного нагрева в экваториальных и полярных областях, на Юпитере воздействие \n",
    "солнечной радиации на температурную циркуляцию незначительно; главными движущими силами являются потоки тепла, \n",
    "идущие из центра планеты, и энергия, выделяемая при быстром движении Юпитера вокруг своей оси\"\"\"\n",
    "question = 'Чем Юпитер отличается от Земли?'\n",
    "texts.append(text)\n",
    "questions.append(question)\n",
    "\n",
    "request = {'texts':texts,'questions':questions}"
   ]
  },
  {
   "cell_type": "code",
   "execution_count": 4,
   "id": "08923f20",
   "metadata": {},
   "outputs": [],
   "source": [
    "request_str = json.dumps(request)\n",
    "response = requests.post(server_address, json=request_str)"
   ]
  },
  {
   "cell_type": "code",
   "execution_count": 5,
   "id": "99efea56",
   "metadata": {},
   "outputs": [
    {
     "name": "stdout",
     "output_type": "stream",
     "text": [
      "Что называли Форумом? :\n",
      "- долина между Палатином и Квириналом \n",
      "\n",
      "Чем Юпитер отличается от Земли? :\n",
      "- циркуляция атмосферы \n",
      "происходит за счёт разницы солнечного нагрева \n",
      "\n"
     ]
    }
   ],
   "source": [
    "json_response = json.loads(response.text)\n",
    "answers = json_response[0]\n",
    "for i in range(len(answers)):\n",
    "    print(questions[i], \":\\n-\" , answers[i], '\\n')"
   ]
  },
  {
   "cell_type": "code",
   "execution_count": 6,
   "id": "43450d46",
   "metadata": {},
   "outputs": [
    {
     "data": {
      "text/plain": [
       "[['долина между Палатином и Квириналом',\n",
       "  'циркуляция атмосферы \\nпроисходит за счёт разницы солнечного нагрева'],\n",
       " [32, 77],\n",
       " [451.1378479003906, 31.693464279174805]]"
      ]
     },
     "execution_count": 6,
     "metadata": {},
     "output_type": "execute_result"
    }
   ],
   "source": [
    "json_response"
   ]
  }
 ],
 "metadata": {
  "kernelspec": {
   "display_name": "Python 3 (ipykernel)",
   "language": "python",
   "name": "python3"
  },
  "language_info": {
   "codemirror_mode": {
    "name": "ipython",
    "version": 3
   },
   "file_extension": ".py",
   "mimetype": "text/x-python",
   "name": "python",
   "nbconvert_exporter": "python",
   "pygments_lexer": "ipython3",
   "version": "3.8.8"
  }
 },
 "nbformat": 4,
 "nbformat_minor": 5
}
